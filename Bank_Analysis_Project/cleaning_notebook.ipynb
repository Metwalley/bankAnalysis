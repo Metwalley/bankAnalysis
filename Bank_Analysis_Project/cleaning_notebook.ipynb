{
 "cells": [
  {
   "cell_type": "markdown",
   "id": "cc7cdf20",
   "metadata": {},
   "source": [
    "# Data Cleaning Notebook\n",
    "This notebook is designed to clean the dataset according to the provided instructions. Each step will address a specific issue in the data."
   ]
  },
  {
   "cell_type": "markdown",
   "id": "c5e867fd",
   "metadata": {},
   "source": [
    "## Step 1: Import Necessary Libraries"
   ]
  },
  {
   "cell_type": "code",
   "execution_count": null,
   "id": "a007766b",
   "metadata": {},
   "outputs": [],
   "source": [
    "import pandas as pd\n",
    "import numpy as np"
   ]
  },
  {
   "cell_type": "markdown",
   "id": "f88a3511",
   "metadata": {},
   "source": [
    "## Step 2: Load the Dataset"
   ]
  },
  {
   "cell_type": "code",
   "execution_count": null,
   "id": "eddf1d70",
   "metadata": {},
   "outputs": [],
   "source": [
    "file_path = '/mnt/data/finance_dataset_uncleaned.xlsx'\n",
    "df = pd.read_excel(file_path)\n",
    "df.head()"
   ]
  },
  {
   "cell_type": "markdown",
   "id": "995cd0e1",
   "metadata": {},
   "source": [
    "## Step 3: Inspect the Dataset\n",
    "Here we inspect the first few rows to understand the structure of the data."
   ]
  },
  {
   "cell_type": "code",
   "execution_count": null,
   "id": "cd58ce4d",
   "metadata": {},
   "outputs": [],
   "source": [
    "df.info()"
   ]
  },
  {
   "cell_type": "markdown",
   "id": "a2fdcd09",
   "metadata": {},
   "source": [
    "## Step 4: Handle Missing Values\n",
    "We will drop records with critical missing values and impute others."
   ]
  },
  {
   "cell_type": "code",
   "execution_count": null,
   "id": "f71dee53",
   "metadata": {},
   "outputs": [],
   "source": [
    "# Drop rows with missing Account_Number, Branch_Code, Phone_Number\n",
    "df = df.dropna(subset=['Account_Number', 'Branch_Code', 'Phone_Number'])\n",
    "\n",
    "# Impute missing Loan_Amount and Account_Balance\n",
    "df['Loan_Amount'] = df['Loan_Amount'].fillna(df['Loan_Amount'].median())\n",
    "df['Account_Balance'] = df['Account_Balance'].fillna(df['Account_Balance'].median())"
   ]
  },
  {
   "cell_type": "markdown",
   "id": "11008bd7",
   "metadata": {},
   "source": [
    "## Step 5: Correct Erroneous Entries\n",
    "Filtering and correcting unrealistic data."
   ]
  },
  {
   "cell_type": "code",
   "execution_count": null,
   "id": "17ca2d67",
   "metadata": {},
   "outputs": [],
   "source": [
    "# Filter out unrealistic Age values (e.g., Age < 18 or Age > 100)\n",
    "df = df[(df['Age'] >= 18) & (df['Age'] <= 100)]\n",
    "\n",
    "# Correct Credit_Score (values between 300 and 850)\n",
    "df = df[(df['Credit_Score'] >= 300) & (df['Credit_Score'] <= 850)]\n",
    "\n",
    "# Filter unrealistic Income values (e.g., Income > 0)\n",
    "df = df[df['Income'] > 0]\n",
    "\n",
    "# Clean the Phone_Number column to remove nonsensical data\n",
    "df['Phone_Number'] = df['Phone_Number'].apply(lambda x: np.nan if len(str(x)) != 10 else x)\n",
    "df = df.dropna(subset=['Phone_Number'])"
   ]
  },
  {
   "cell_type": "markdown",
   "id": "10085843",
   "metadata": {},
   "source": [
    "## Step 6: Ensure Consistency\n",
    "Standardizing date formats and normalizing categorical data."
   ]
  },
  {
   "cell_type": "code",
   "execution_count": null,
   "id": "18189225",
   "metadata": {},
   "outputs": [],
   "source": [
    "# Standardize the Transaction_Date format to YYYY-MM-DD\n",
    "df['Transaction_Date'] = pd.to_datetime(df['Transaction_Date'], errors='coerce').dt.strftime('%Y-%m-%d')\n",
    "\n",
    "# Normalize Gender entries\n",
    "df['Gender'] = df['Gender'].replace({'Unknown': 'Other', None: 'Other'})\n",
    "\n",
    "# Handle inconsistencies in the Country column\n",
    "df['Country'] = df['Country'].replace({'Unknown': np.nan, None: np.nan})"
   ]
  },
  {
   "cell_type": "markdown",
   "id": "318d22ee",
   "metadata": {},
   "source": [
    "## Step 7: Handle Outliers\n",
    "Identifying and handling extreme values."
   ]
  },
  {
   "cell_type": "code",
   "execution_count": null,
   "id": "2e560085",
   "metadata": {},
   "outputs": [],
   "source": [
    "# Handle extreme values in Transaction_Amount and Loan_Amount\n",
    "df = df[(df['Transaction_Amount'] > 0) & (df['Transaction_Amount'] < df['Transaction_Amount'].quantile(0.99))]\n",
    "df = df[(df['Loan_Amount'] > 0) & (df['Loan_Amount'] < df['Loan_Amount'].quantile(0.99))]"
   ]
  },
  {
   "cell_type": "markdown",
   "id": "4c239d53",
   "metadata": {},
   "source": [
    "## Step 8: Remove Irrelevant Columns\n",
    "Dropping unnecessary columns."
   ]
  },
  {
   "cell_type": "code",
   "execution_count": null,
   "id": "3ec8e4dc",
   "metadata": {},
   "outputs": [],
   "source": [
    "df = df.drop(columns=['Extra Details'])"
   ]
  },
  {
   "cell_type": "markdown",
   "id": "1894b248",
   "metadata": {},
   "source": [
    "## Step 9: Export the Cleaned Data\n",
    "Saving the cleaned dataset to a new Excel file."
   ]
  },
  {
   "cell_type": "code",
   "execution_count": null,
   "id": "adcb8bc5",
   "metadata": {},
   "outputs": [],
   "source": [
    "cleaned_file_path = '/mnt/data/finance_dataset_cleaned.xlsx'\n",
    "df.to_excel(cleaned_file_path, index=False)"
   ]
  },
  {
   "cell_type": "markdown",
   "id": "307556fe",
   "metadata": {},
   "source": [
    "## Completed\n",
    "The data has been cleaned and saved."
   ]
  }
 ],
 "metadata": {},
 "nbformat": 4,
 "nbformat_minor": 5
}
